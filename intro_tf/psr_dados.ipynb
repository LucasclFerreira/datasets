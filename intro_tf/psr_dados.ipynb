{
 "cells": [
  {
   "cell_type": "code",
   "execution_count": 4,
   "id": "3b487cf1",
   "metadata": {},
   "outputs": [],
   "source": [
    "import pandas as pd\n",
    "pd.set_option('display.max_columns', None)"
   ]
  },
  {
   "cell_type": "code",
   "execution_count": 32,
   "id": "fe6ba77c",
   "metadata": {},
   "outputs": [],
   "source": [
    "psr1 = pd.read_csv('psrdadosabertos2006a2015csv.csv', sep=';', encoding='latin-1', low_memory=False)"
   ]
  },
  {
   "cell_type": "code",
   "execution_count": 34,
   "id": "7bb14720",
   "metadata": {},
   "outputs": [
    {
     "data": {
      "text/plain": [
       "array([nan, 'CHUVA EXCESSIVA', 'SECA', 'GRANIZO', 'INCÊNDIO',\n",
       "       'VENTOS FORTES/FRIOS', 'GEADA', 'DEMAIS CAUSAS',\n",
       "       'INUNDAÇÃO/TROMBA D´ÁGUA', 'VARIAÇÃO EXCESSIVA DE TEMPERATURA',\n",
       "       'RAIO', 'VARIAÇÃO DE PREÇO', 'MORTE', ' GEADA ',\n",
       "       'QUEDA DE PARREIRAL', ' VENTOS FORTES ', ' GRANIZO ',\n",
       "       'PERDA DE QUALIDADE', ' SECA ', ' CHUVA EXCESSIVA '], dtype=object)"
      ]
     },
     "execution_count": 34,
     "metadata": {},
     "output_type": "execute_result"
    }
   ],
   "source": [
    "psr1.EVENTO_PREPONDERANTE.unique()"
   ]
  },
  {
   "cell_type": "code",
   "execution_count": 11,
   "id": "b175ea3b",
   "metadata": {},
   "outputs": [],
   "source": [
    "psr2 = pd.read_csv('psrdadosabertos2016a2021csv.csv', sep=';', encoding='latin-1', low_memory=False)"
   ]
  },
  {
   "cell_type": "code",
   "execution_count": 30,
   "id": "3a25b25d",
   "metadata": {},
   "outputs": [
    {
     "data": {
      "text/plain": [
       "-                                     572708\n",
       " SECA                                  78509\n",
       " GRANIZO                               19532\n",
       " GEADA                                 18512\n",
       " CHUVA EXCESSIVA                        5373\n",
       " INUNDAÇÃO/TROMBA D´ÁGUA                1562\n",
       " VENTOS FORTES/FRIOS                    1325\n",
       " VARIAÇÃO EXCESSIVA DE TEMPERATURA       458\n",
       " INCÊNDIO                                229\n",
       " MORTE                                   151\n",
       " DEMAIS CAUSAS                           146\n",
       " QUEDA DE PARREIRAL                      122\n",
       " RAIO                                     32\n",
       " PERDA DE QUALIDADE                        8\n",
       " VARIAÇÃO DE PREÇO                         4\n",
       " REPLANTIO                                 4\n",
       "Name: EVENTO_PREPONDERANTE, dtype: int64"
      ]
     },
     "execution_count": 30,
     "metadata": {},
     "output_type": "execute_result"
    }
   ],
   "source": [
    "psr2.EVENTO_PREPONDERANTE.value_counts()"
   ]
  },
  {
   "cell_type": "code",
   "execution_count": null,
   "id": "0386d975",
   "metadata": {},
   "outputs": [],
   "source": [
    "gpd_psr2 = {\n",
    "    '-': 'Nenhum',\n",
    "    '\\xa0INCÊNDIO': 'Climatológico',\n",
    "    '\\xa0SECA': 'Climatológico',s\n",
    "    '\\xa0INUNDAÇÃO/TROMBA D´ÁGUA': 'Hidrológico',\n",
    "    '\\xa0CHUVA EXCESSIVA': 'Hidrológico', \n",
    "    '\\xa0GRANIZO': 'Meteorológico',\n",
    "    '\\xa0VARIAÇÃO EXCESSIVA DE TEMPERATURA': 'Climatológico',\n",
    "    '\\xa0VENTOS FORTES/FRIOS': 'Meteorológico',\n",
    "    '\\xa0GEADA': 'Meteorológico',\n",
    "    '\\xa0DEMAIS CAUSAS': 'Outros',\n",
    "    '\\xa0RAIO': 'Outros',\n",
    "    '\\xa0VARIAÇÃO DE PREÇO': 'Outros',\n",
    "    '\\xa0REPLANTIO': 'Outros',\n",
    "    '\\xa0MORTE': 'Outros',\n",
    "    '\\xa0QUEDA DE PARREIRAL': 'Outros',\n",
    "    '\\xa0PERDA DE QUALIDADE': 'Outros'\n",
    "}\n",
    "\n",
    "desastre_psr2 = {\n",
    "    '-': 'Nenhum',\n",
    "    '\\xa0INCÊNDIO': 'Incêndio Florestal',\n",
    "    '\\xa0SECA': 'Estiagem e Seca',\n",
    "    '\\xa0INUNDAÇÃO/TROMBA D´ÁGUA': 'Inundações',\n",
    "    '\\xa0CHUVA EXCESSIVA': 'Chuvas Intensas', \n",
    "    '\\xa0GRANIZO': 'Granizo',\n",
    "    '\\xa0VARIAÇÃO EXCESSIVA DE TEMPERATURA': 'Onda de Calor e Baixa Umidade',\n",
    "    '\\xa0VENTOS FORTES/FRIOS': 'Vendavais e Ciclones',\n",
    "    '\\xa0GEADA': 'Onda de Frio',\n",
    "    '\\xa0DEMAIS CAUSAS': 'Outros',\n",
    "    '\\xa0RAIO': 'Outros',\n",
    "    '\\xa0VARIAÇÃO DE PREÇO': 'Outros',\n",
    "    '\\xa0REPLANTIO': 'Outros',\n",
    "    '\\xa0MORTE': 'Outros',\n",
    "    '\\xa0QUEDA DE PARREIRAL': 'Outros',\n",
    "    '\\xa0PERDA DE QUALIDADE': 'Outros'\n",
    "}"
   ]
  },
  {
   "cell_type": "code",
   "execution_count": 24,
   "id": "61d47bc4",
   "metadata": {},
   "outputs": [],
   "source": [
    "desastres_por_uf = psr2.groupby(['SG_UF_PROPRIEDADE', 'EVENTO_PREPONDERANTE'], as_index=False).size().copy().rename(columns={'SG_UF_PROPRIEDADE': 'uf', 'EVENTO_PREPONDERANTE': 'desastre'})"
   ]
  },
  {
   "cell_type": "code",
   "execution_count": 29,
   "id": "45f3f192",
   "metadata": {},
   "outputs": [
    {
     "data": {
      "text/html": [
       "<div>\n",
       "<style scoped>\n",
       "    .dataframe tbody tr th:only-of-type {\n",
       "        vertical-align: middle;\n",
       "    }\n",
       "\n",
       "    .dataframe tbody tr th {\n",
       "        vertical-align: top;\n",
       "    }\n",
       "\n",
       "    .dataframe thead th {\n",
       "        text-align: right;\n",
       "    }\n",
       "</style>\n",
       "<table border=\"1\" class=\"dataframe\">\n",
       "  <thead>\n",
       "    <tr style=\"text-align: right;\">\n",
       "      <th></th>\n",
       "      <th>uf</th>\n",
       "      <th>desastre</th>\n",
       "      <th>size</th>\n",
       "    </tr>\n",
       "  </thead>\n",
       "  <tbody>\n",
       "    <tr>\n",
       "      <th>92</th>\n",
       "      <td>PR</td>\n",
       "      <td>-</td>\n",
       "      <td>210135</td>\n",
       "    </tr>\n",
       "    <tr>\n",
       "      <th>93</th>\n",
       "      <td>PR</td>\n",
       "      <td>CHUVA EXCESSIVA</td>\n",
       "      <td>2609</td>\n",
       "    </tr>\n",
       "    <tr>\n",
       "      <th>94</th>\n",
       "      <td>PR</td>\n",
       "      <td>DEMAIS CAUSAS</td>\n",
       "      <td>76</td>\n",
       "    </tr>\n",
       "    <tr>\n",
       "      <th>95</th>\n",
       "      <td>PR</td>\n",
       "      <td>GEADA</td>\n",
       "      <td>10578</td>\n",
       "    </tr>\n",
       "    <tr>\n",
       "      <th>96</th>\n",
       "      <td>PR</td>\n",
       "      <td>GRANIZO</td>\n",
       "      <td>2062</td>\n",
       "    </tr>\n",
       "    <tr>\n",
       "      <th>97</th>\n",
       "      <td>PR</td>\n",
       "      <td>INCÊNDIO</td>\n",
       "      <td>24</td>\n",
       "    </tr>\n",
       "    <tr>\n",
       "      <th>98</th>\n",
       "      <td>PR</td>\n",
       "      <td>INUNDAÇÃO/TROMBA D´ÁGUA</td>\n",
       "      <td>681</td>\n",
       "    </tr>\n",
       "    <tr>\n",
       "      <th>99</th>\n",
       "      <td>PR</td>\n",
       "      <td>MORTE</td>\n",
       "      <td>45</td>\n",
       "    </tr>\n",
       "    <tr>\n",
       "      <th>100</th>\n",
       "      <td>PR</td>\n",
       "      <td>RAIO</td>\n",
       "      <td>23</td>\n",
       "    </tr>\n",
       "    <tr>\n",
       "      <th>101</th>\n",
       "      <td>PR</td>\n",
       "      <td>REPLANTIO</td>\n",
       "      <td>2</td>\n",
       "    </tr>\n",
       "    <tr>\n",
       "      <th>102</th>\n",
       "      <td>PR</td>\n",
       "      <td>SECA</td>\n",
       "      <td>43648</td>\n",
       "    </tr>\n",
       "    <tr>\n",
       "      <th>103</th>\n",
       "      <td>PR</td>\n",
       "      <td>VARIAÇÃO DE PREÇO</td>\n",
       "      <td>1</td>\n",
       "    </tr>\n",
       "    <tr>\n",
       "      <th>104</th>\n",
       "      <td>PR</td>\n",
       "      <td>VARIAÇÃO EXCESSIVA DE TEMPERATURA</td>\n",
       "      <td>309</td>\n",
       "    </tr>\n",
       "    <tr>\n",
       "      <th>105</th>\n",
       "      <td>PR</td>\n",
       "      <td>VENTOS FORTES/FRIOS</td>\n",
       "      <td>778</td>\n",
       "    </tr>\n",
       "  </tbody>\n",
       "</table>\n",
       "</div>"
      ],
      "text/plain": [
       "     uf                            desastre    size\n",
       "92   PR                                   -  210135\n",
       "93   PR                     CHUVA EXCESSIVA    2609\n",
       "94   PR                       DEMAIS CAUSAS      76\n",
       "95   PR                               GEADA   10578\n",
       "96   PR                             GRANIZO    2062\n",
       "97   PR                            INCÊNDIO      24\n",
       "98   PR             INUNDAÇÃO/TROMBA D´ÁGUA     681\n",
       "99   PR                               MORTE      45\n",
       "100  PR                                RAIO      23\n",
       "101  PR                           REPLANTIO       2\n",
       "102  PR                                SECA   43648\n",
       "103  PR                   VARIAÇÃO DE PREÇO       1\n",
       "104  PR   VARIAÇÃO EXCESSIVA DE TEMPERATURA     309\n",
       "105  PR                 VENTOS FORTES/FRIOS     778"
      ]
     },
     "execution_count": 29,
     "metadata": {},
     "output_type": "execute_result"
    }
   ],
   "source": [
    "desastres_por_uf.query(\"uf == 'PR'\")"
   ]
  },
  {
   "cell_type": "code",
   "execution_count": 14,
   "id": "5eae8c5e",
   "metadata": {},
   "outputs": [
    {
     "data": {
      "text/plain": [
       "-                                     572708\n",
       " SECA                                  78509\n",
       " GRANIZO                               19532\n",
       " GEADA                                 18512\n",
       " CHUVA EXCESSIVA                        5373\n",
       " INUNDAÇÃO/TROMBA D´ÁGUA                1562\n",
       " VENTOS FORTES/FRIOS                    1325\n",
       " VARIAÇÃO EXCESSIVA DE TEMPERATURA       458\n",
       " INCÊNDIO                                229\n",
       " MORTE                                   151\n",
       " DEMAIS CAUSAS                           146\n",
       " QUEDA DE PARREIRAL                      122\n",
       " RAIO                                     32\n",
       " PERDA DE QUALIDADE                        8\n",
       " VARIAÇÃO DE PREÇO                         4\n",
       " REPLANTIO                                 4\n",
       "Name: EVENTO_PREPONDERANTE, dtype: int64"
      ]
     },
     "execution_count": 14,
     "metadata": {},
     "output_type": "execute_result"
    }
   ],
   "source": [
    "psr2.EVENTO_PREPONDERANTE.value_counts()"
   ]
  },
  {
   "cell_type": "code",
   "execution_count": 15,
   "id": "5b87f987",
   "metadata": {},
   "outputs": [
    {
     "data": {
      "text/plain": [
       "PRODUTIVIDADE    380001\n",
       "CUSTEIO          316441\n",
       "PECUÁRIO           1665\n",
       "FLORESTAS           492\n",
       "RECEITA              76\n",
       "Name: NM_CLASSIF_PRODUTO, dtype: int64"
      ]
     },
     "execution_count": 15,
     "metadata": {},
     "output_type": "execute_result"
    }
   ],
   "source": [
    "psr2.NM_CLASSIF_PRODUTO.value_counts()"
   ]
  },
  {
   "cell_type": "code",
   "execution_count": null,
   "id": "8b281952",
   "metadata": {},
   "outputs": [],
   "source": []
  }
 ],
 "metadata": {
  "kernelspec": {
   "display_name": "Python 3 (ipykernel)",
   "language": "python",
   "name": "python3"
  },
  "language_info": {
   "codemirror_mode": {
    "name": "ipython",
    "version": 3
   },
   "file_extension": ".py",
   "mimetype": "text/x-python",
   "name": "python",
   "nbconvert_exporter": "python",
   "pygments_lexer": "ipython3",
   "version": "3.11.8"
  }
 },
 "nbformat": 4,
 "nbformat_minor": 5
}
